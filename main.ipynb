{
 "cells": [
  {
   "cell_type": "code",
   "execution_count": 50,
   "id": "initial_id",
   "metadata": {
    "collapsed": true,
    "ExecuteTime": {
     "end_time": "2023-12-10T10:53:30.706555100Z",
     "start_time": "2023-12-10T10:53:30.651602200Z"
    }
   },
   "outputs": [],
   "source": [
    "import pandas as pd\n",
    "import psycopg2\n",
    "\n",
    "host = \"localhost\"\n",
    "database = \"riskdb\"\n",
    "user = \"postgres\"\n",
    "password = \"12345\"\n",
    "\n",
    "connection = psycopg2.connect(host=host, database=database, user=user, password=password)\n",
    "cursor = connection.cursor()\n",
    "cursor.execute(\"SELECT * FROM dataset\")\n",
    "data_tr = cursor.fetchall()\n",
    "cursor.execute(\"SELECT * FROM test\")\n",
    "data_test = cursor.fetchall()\n",
    "cursor.close()\n",
    "connection.close()\n",
    "\n",
    "train = pd.DataFrame(data_tr)\n",
    "test = pd.DataFrame(data_test)"
   ]
  },
  {
   "cell_type": "code",
   "execution_count": 51,
   "outputs": [
    {
     "name": "stdout",
     "output_type": "stream",
     "text": [
      "                                                    0      1\n",
      "0   Цена настоящего договора 73 500 (Семьдесят три...   Цена\n",
      "1   Цена Договора является твердой и определяется ...   Цена\n",
      "2   Цена договора включает в себя стоимость Товара...   Цена\n",
      "3                              Аванс не предусмотрен.  Аванс\n",
      "4   Сумма по Договору, подлежащая уплате Поставщик...  Налог\n",
      "5   Цена Договора может быть изменена, если по пре...   Цена\n",
      "6   При этом по соглашению Сторон допускается изме...   Цена\n",
      "7   Поставщик осуществляет передачу в течение 10 (...   Срок\n",
      "8   Пеня начисляется за каждый день просрочки испо...   Пени\n",
      "9    За каждый факт неисполнения или ненадлежащего...  Штраф\n",
      "10   За каждый факт неисполнения Заказчиком обязат...  Штраф\n",
      "11  Товар поставляется согласно техническому задан...   Срок\n"
     ]
    }
   ],
   "source": [
    "print(test)"
   ],
   "metadata": {
    "collapsed": false,
    "ExecuteTime": {
     "end_time": "2023-12-10T10:53:31.144122Z",
     "start_time": "2023-12-10T10:53:31.126169100Z"
    }
   },
   "id": "425784dac6199e27"
  },
  {
   "cell_type": "code",
   "execution_count": 52,
   "outputs": [
    {
     "name": "stdout",
     "output_type": "stream",
     "text": [
      "                                                    0       1\n",
      "0   Пеня начисляется за каждый день просрочки испо...    Пени\n",
      "1   10 процентов цены контракта (этапа) в случае, ...   Штраф\n",
      "2   5 процентов цены контракта (этапа) в случае, е...   Штраф\n",
      "3   1 процент цены контракта (этапа) в случае, есл...   Штраф\n",
      "4   0,5 процента цены контракта (этапа) в случае, ...   Штраф\n",
      "..                                                ...     ...\n",
      "84  В рамках экспертизы поставленного Товара на со...  Другое\n",
      "85  Заказчик вправе для проведения экспертизы Това...  Другое\n",
      "86  По результатам проведенной экспертизы Товара, ...  Другое\n",
      "87  Заказчик вправе не отказывать в приемке постав...  Другое\n",
      "88  В случае привлечения Заказчиком для проведения...  Другое\n",
      "\n",
      "[89 rows x 2 columns]\n"
     ]
    }
   ],
   "source": [
    "print(train)"
   ],
   "metadata": {
    "collapsed": false,
    "ExecuteTime": {
     "end_time": "2023-12-10T10:53:31.477920300Z",
     "start_time": "2023-12-10T10:53:31.457975500Z"
    }
   },
   "id": "24ba19f7bfe1fd0f"
  },
  {
   "cell_type": "code",
   "execution_count": 53,
   "outputs": [],
   "source": [
    "train = train.rename(columns={0: 'paragraf', 1: \"target\"})\n",
    "test = test.rename(columns={0: 'paragraf', 1: \"target\"})"
   ],
   "metadata": {
    "collapsed": false,
    "ExecuteTime": {
     "end_time": "2023-12-10T10:53:31.858703100Z",
     "start_time": "2023-12-10T10:53:31.840751300Z"
    }
   },
   "id": "7747f657c5b0ed7b"
  },
  {
   "cell_type": "code",
   "execution_count": 54,
   "outputs": [
    {
     "name": "stdout",
     "output_type": "stream",
     "text": [
      "                                             paragraf  target\n",
      "0   Пеня начисляется за каждый день просрочки испо...    Пени\n",
      "1   10 процентов цены контракта (этапа) в случае, ...   Штраф\n",
      "2   5 процентов цены контракта (этапа) в случае, е...   Штраф\n",
      "3   1 процент цены контракта (этапа) в случае, есл...   Штраф\n",
      "4   0,5 процента цены контракта (этапа) в случае, ...   Штраф\n",
      "..                                                ...     ...\n",
      "84  В рамках экспертизы поставленного Товара на со...  Другое\n",
      "85  Заказчик вправе для проведения экспертизы Това...  Другое\n",
      "86  По результатам проведенной экспертизы Товара, ...  Другое\n",
      "87  Заказчик вправе не отказывать в приемке постав...  Другое\n",
      "88  В случае привлечения Заказчиком для проведения...  Другое\n",
      "\n",
      "[89 rows x 2 columns]\n"
     ]
    }
   ],
   "source": [
    "print(train)"
   ],
   "metadata": {
    "collapsed": false,
    "ExecuteTime": {
     "end_time": "2023-12-10T10:53:32.418266800Z",
     "start_time": "2023-12-10T10:53:32.401690700Z"
    }
   },
   "id": "74b9d94cc46a981f"
  },
  {
   "cell_type": "code",
   "execution_count": 55,
   "outputs": [
    {
     "name": "stdout",
     "output_type": "stream",
     "text": [
      "                                             paragraf target\n",
      "0   Цена настоящего договора 73 500 (Семьдесят три...   Цена\n",
      "1   Цена Договора является твердой и определяется ...   Цена\n",
      "2   Цена договора включает в себя стоимость Товара...   Цена\n",
      "3                              Аванс не предусмотрен.  Аванс\n",
      "4   Сумма по Договору, подлежащая уплате Поставщик...  Налог\n",
      "5   Цена Договора может быть изменена, если по пре...   Цена\n",
      "6   При этом по соглашению Сторон допускается изме...   Цена\n",
      "7   Поставщик осуществляет передачу в течение 10 (...   Срок\n",
      "8   Пеня начисляется за каждый день просрочки испо...   Пени\n",
      "9    За каждый факт неисполнения или ненадлежащего...  Штраф\n",
      "10   За каждый факт неисполнения Заказчиком обязат...  Штраф\n",
      "11  Товар поставляется согласно техническому задан...   Срок\n"
     ]
    }
   ],
   "source": [
    "print(test)"
   ],
   "metadata": {
    "collapsed": false,
    "ExecuteTime": {
     "end_time": "2023-12-10T10:53:33.048161500Z",
     "start_time": "2023-12-10T10:53:33.038187700Z"
    }
   },
   "id": "3e0595b820a2b33a"
  },
  {
   "cell_type": "code",
   "execution_count": 56,
   "outputs": [],
   "source": [
    "classes = {\"Пени\": 0, \n",
    "           \"Штраф\": 1, \n",
    "           \"Просрочка\": 2, \n",
    "           \"Цена\": 3, \n",
    "           \"Аванс\": 4, \n",
    "           \"Налог\": 5, \n",
    "           \"Срок\": 7,\n",
    "           \"Сроки\": 7,\n",
    "           \"Изменение цены\": 3,\n",
    "           \"Другое\": 8}"
   ],
   "metadata": {
    "collapsed": false,
    "ExecuteTime": {
     "end_time": "2023-12-10T10:53:33.813307500Z",
     "start_time": "2023-12-10T10:53:33.800135Z"
    }
   },
   "id": "661ae96140d4d83a"
  },
  {
   "cell_type": "code",
   "execution_count": 57,
   "outputs": [],
   "source": [
    "X_list_train = train['paragraf'].tolist()\n",
    "Y_list_train = train['target'].tolist()\n",
    "X_list_test = test['paragraf'].tolist()\n",
    "Y_list_test = test['target'].tolist()\n",
    "for i in range(len(Y_list_test)):\n",
    "    Y_list_test[i] = classes[Y_list_test[i]]\n",
    "for i in range(len(Y_list_train)):\n",
    "    Y_list_train[i] = classes[Y_list_train[i]]"
   ],
   "metadata": {
    "collapsed": false,
    "ExecuteTime": {
     "end_time": "2023-12-10T10:53:34.404378100Z",
     "start_time": "2023-12-10T10:53:34.388966600Z"
    }
   },
   "id": "61bd9ad1289273e5"
  },
  {
   "cell_type": "code",
   "execution_count": 58,
   "outputs": [
    {
     "name": "stdout",
     "output_type": "stream",
     "text": [
      "Document: Цена настоящего договора 73 500 (Семьдесят три тысячи пятьсот) рублей, 00 коп. без налога (НДС).\n",
      "True Label: 3\n",
      "Predicted Label: 3\n",
      "---\n",
      "Document: Цена Договора является твердой и определяется на весь срок исполнения Договора, за исключением случаев, установленных в Законе о контрактной системе\n",
      "True Label: 3\n",
      "Predicted Label: 3\n",
      "---\n",
      "Document: Цена договора включает в себя стоимость Товара, расходы на выполнение Спецификации (Приложение №1) в полном объеме, перевозку\n",
      "True Label: 3\n",
      "Predicted Label: 8\n",
      "---\n",
      "Document: Аванс не предусмотрен.\n",
      "True Label: 4\n",
      "Predicted Label: 8\n",
      "---\n",
      "Document: Сумма по Договору, подлежащая уплате Поставщику, уменьшается на размер налогов, сборов и иных обязательных платежей в бюджеты бюджетной системы Российской Федерации, связанных с оплатой Договора, если в соответствии с законодательством Российской Федерации о налогах и сборах такие налоги, сборы и иные обязательные платежи подлежат уплате в бюджеты бюджетной системы Российской Федерации Заказчиком.\n",
      "True Label: 5\n",
      "Predicted Label: 5\n",
      "---\n",
      "Document: Цена Договора может быть изменена, если по предложению Заказчика увеличивается или уменьшается предусмотренное Договором количество Товара не более чем на десять процентов. \n",
      "True Label: 3\n",
      "Predicted Label: 8\n",
      "---\n",
      "Document: При этом по соглашению Сторон допускается изменение с учетом положений бюджетного законодательства Российской Федерации цены Договора пропорционально дополнительному количеству Товара исходя из установленной в Договоре цены единицы Товара, но не более чем на десять процентов цены Договора. При уменьшении предусмотренного Договором количества Товара Стороны Договора обязаны уменьшить цену Договора исходя из цены единицы Товара.\n",
      "Цена единицы дополнительно поставляемого Товара или цена единицы Товара при уменьшении предусмотренного Договором количества поставляемого Товара должна определяться как частное от деления первоначальной цены Договора на предусмотренное в Договоре количество Товара.\n",
      "True Label: 3\n",
      "Predicted Label: 8\n",
      "---\n",
      "Document: Поставщик осуществляет передачу в течение 10 (десяти) рабочих дней со дня заключения контракта. Поставщик за 2 (два) дня до момента поставки товара информирует Заказчика о предстоящей поставке.\n",
      "True Label: 7\n",
      "Predicted Label: 7\n",
      "---\n",
      "Document: Пеня начисляется за каждый день просрочки исполнения обязательства Поставщиком, предусмотренного договором, в размере одной трехсотой действующей на дату уплаты пени ставки рефинансирования Центрального банка Российской Федерации от цены договора, уменьшенной на сумму, пропорциональную объему обязательств, предусмотренных договором и фактически исполненных Поставщиком.\n",
      "True Label: 0\n",
      "Predicted Label: 0\n",
      "---\n",
      "Document:  За каждый факт неисполнения или ненадлежащего исполнения Поставщиком обязательств, предусмотренных договором, за исключением просрочки исполнения обязательств (в том числе гарантийного обязательства), предусмотренных договором, размер штрафа устанавливается в виде фиксированной суммы, определяемой в следующем порядке:\n",
      "а) 10 процентов цены договора в случае, если цена договора не превышает 3 млн. рублей;\n",
      "True Label: 1\n",
      "Predicted Label: 1\n",
      "---\n",
      "Document:  За каждый факт неисполнения Заказчиком обязательств, предусмотренных Договором, за исключением просрочки исполнения обязательств, предусмотренных Договором, размер штрафа устанавливается в виде фиксированной суммы - 1000 рублей.\n",
      "True Label: 1\n",
      "Predicted Label: 1\n",
      "---\n",
      "Document: Товар поставляется согласно техническому заданию в течение 10 рабочих дней со дня заключения контракта. Поставщик за 2 (два) дня до момента поставки товара информирует Заказчика о предстоящей поставке.\n",
      "True Label: 7\n",
      "Predicted Label: 7\n",
      "---\n",
      "0.7272727272727273\n"
     ]
    },
    {
     "name": "stderr",
     "output_type": "stream",
     "text": [
      "C:\\Users\\senio\\PycharmProjects\\TenderHackRiskAnalysis\\venv\\lib\\site-packages\\sklearn\\svm\\_classes.py:32: FutureWarning: The default value of `dual` will change from `True` to `'auto'` in 1.5. Set the value of `dual` explicitly to suppress the warning.\n",
      "  warnings.warn(\n"
     ]
    }
   ],
   "source": [
    "from sklearn.feature_extraction.text import TfidfVectorizer\n",
    "from sklearn.svm import LinearSVC\n",
    "\n",
    "vectorizer = TfidfVectorizer()\n",
    "X_train_tfidf = vectorizer.fit_transform(X_list_train)\n",
    "classifier = LinearSVC()\n",
    "classifier.fit(X_train_tfidf, Y_list_train)\n",
    "X_test_tfidf = vectorizer.transform(X_list_test)\n",
    "predictions = classifier.predict(X_test_tfidf)\n",
    "accuracy = 0\n",
    "for doc, label, prediction in zip(X_list_test, Y_list_test, predictions):\n",
    "    print('Document:', doc)\n",
    "    print('True Label:', label)\n",
    "    print('Predicted Label:', prediction)\n",
    "    print('---')\n",
    "    if label == prediction:\n",
    "        accuracy += 1\n",
    "accuracy /= 11\n",
    "print(accuracy)"
   ],
   "metadata": {
    "collapsed": false,
    "ExecuteTime": {
     "end_time": "2023-12-10T10:53:34.982137400Z",
     "start_time": "2023-12-10T10:53:34.961446100Z"
    }
   },
   "id": "3e9563ac8c48e2a0"
  },
  {
   "cell_type": "code",
   "execution_count": 58,
   "outputs": [],
   "source": [],
   "metadata": {
    "collapsed": false,
    "ExecuteTime": {
     "end_time": "2023-12-10T10:53:35.897326700Z",
     "start_time": "2023-12-10T10:53:35.879227600Z"
    }
   },
   "id": "d9f1ab61e971780b"
  },
  {
   "cell_type": "code",
   "execution_count": null,
   "outputs": [],
   "source": [],
   "metadata": {
    "collapsed": false
   },
   "id": "52904218729bd437"
  }
 ],
 "metadata": {
  "kernelspec": {
   "display_name": "Python 3",
   "language": "python",
   "name": "python3"
  },
  "language_info": {
   "codemirror_mode": {
    "name": "ipython",
    "version": 2
   },
   "file_extension": ".py",
   "mimetype": "text/x-python",
   "name": "python",
   "nbconvert_exporter": "python",
   "pygments_lexer": "ipython2",
   "version": "2.7.6"
  }
 },
 "nbformat": 4,
 "nbformat_minor": 5
}
